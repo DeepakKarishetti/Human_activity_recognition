{
 "cells": [
  {
   "cell_type": "code",
   "execution_count": 1,
   "metadata": {},
   "outputs": [],
   "source": [
    "import os\n",
    "import glob\n",
    "import numpy as np\n",
    "from numpy import *\n",
    "import matplotlib.mlab as mlab\n",
    "import matplotlib.pyplot as plt\n",
    "import math"
   ]
  },
  {
   "cell_type": "code",
   "execution_count": 2,
   "metadata": {},
   "outputs": [],
   "source": [
    "cur_path = os.getcwd()\n",
    "file_path = 'dataset/train/'\n",
    "\n",
    "#file_path = 'dataset/test/'\n",
    "\n",
    "data_path = os.path.join(cur_path, file_path)\n",
    "file_names = glob.glob(data_path+'*.txt')\n",
    "\n",
    "bazooka = list()\n",
    "for _file in file_names:\n",
    "\twith open(_file, 'r') as f:\n",
    "\t\tfilename = f.readlines()\n",
    "\t\tbazooka.append(filename)"
   ]
  },
  {
   "cell_type": "code",
   "execution_count": 3,
   "metadata": {},
   "outputs": [],
   "source": [
    "inter = list()\n",
    "for small_list in bazooka:\n",
    "\tfor line in small_list:\n",
    "\t\tline = line.replace('\\n', '')\n",
    "\t\t#print(line)\n",
    "\n",
    "\t\tbuffer_list = line.split()\n",
    "\t\t#print(buffer_list)\n",
    "\t\tinter.append(buffer_list)\n",
    "\t\t#print(inter)\n",
    "\n",
    "\t\tframe_id = buffer_list[0]\n",
    "\t\tjoint_num = buffer_list[1]\n",
    "\t\tx = buffer_list[2]\n",
    "\t\ty = buffer_list[3]\n",
    "\t\tz = buffer_list[4]"
   ]
  },
  {
   "cell_type": "code",
   "execution_count": null,
   "metadata": {},
   "outputs": [],
   "source": [
    "j1 = list()\n",
    "j4 = list()\n",
    "j8 = list()\n",
    "j12 = list()\n",
    "j16 = list()\n",
    "j20 = list()\n",
    "j_1 = '1'\n",
    "#print(j_1)\n",
    "j_4 = '4'\n",
    "j_8 = '8'\n",
    "j_12 = '12'\n",
    "j_16 = '16'\n",
    "j_20 = '20'\n",
    "for i in inter:\n",
    "\tif i[1] == j_1:\n",
    "\t\tj1.append(i)\n",
    "\telif i[1] == j_4:\n",
    "\t\tj4.append(i)\n",
    "\telif i[1] == j_8:\n",
    "\t\tj8.append(i)\n",
    "\telif i[1] == j_12:\n",
    "\t\tj12.append(i)\n",
    "\telif i[1] == j_16:\n",
    "\t\tj16.append(i)\n",
    "\telif i[1] == j_20:\n",
    "\t\tj20.append(i)\n",
    "#print(len(j1))\n",
    "#print(len(j4))"
   ]
  },
  {
   "cell_type": "code",
   "execution_count": 4,
   "metadata": {},
   "outputs": [],
   "source": [
    "d_1_4 = list()\n",
    "d_1_8 = list()\n",
    "d_112 = list()\n",
    "d_116 = list()\n",
    "d_120 = list()"
   ]
  },
  {
   "cell_type": "code",
   "execution_count": 5,
   "metadata": {},
   "outputs": [
    {
     "ename": "NameError",
     "evalue": "name 'd' is not defined",
     "output_type": "error",
     "traceback": [
      "\u001b[0;31m---------------------------------------------------------------------------\u001b[0m",
      "\u001b[0;31mNameError\u001b[0m                                 Traceback (most recent call last)",
      "\u001b[0;32m<ipython-input-5-c97356a20203>\u001b[0m in \u001b[0;36m<module>\u001b[0;34m\u001b[0m\n\u001b[1;32m     15\u001b[0m         \u001b[0md_1_20\u001b[0m \u001b[0;34m=\u001b[0m \u001b[0mpow\u001b[0m\u001b[0;34m(\u001b[0m\u001b[0;34m(\u001b[0m\u001b[0;34m(\u001b[0m\u001b[0mfloat\u001b[0m\u001b[0;34m(\u001b[0m\u001b[0mj1\u001b[0m\u001b[0;34m[\u001b[0m\u001b[0mi\u001b[0m\u001b[0;34m]\u001b[0m\u001b[0;34m[\u001b[0m\u001b[0;36m2\u001b[0m\u001b[0;34m]\u001b[0m\u001b[0;34m)\u001b[0m\u001b[0;34m-\u001b[0m\u001b[0;34m(\u001b[0m\u001b[0mfloat\u001b[0m\u001b[0;34m(\u001b[0m\u001b[0mj20\u001b[0m\u001b[0;34m[\u001b[0m\u001b[0mi\u001b[0m\u001b[0;34m]\u001b[0m\u001b[0;34m[\u001b[0m\u001b[0;36m2\u001b[0m\u001b[0;34m]\u001b[0m\u001b[0;34m)\u001b[0m\u001b[0;34m)\u001b[0m\u001b[0;34m)\u001b[0m\u001b[0;34m**\u001b[0m\u001b[0;36m2\u001b[0m \u001b[0;34m+\u001b[0m \u001b[0;34m(\u001b[0m\u001b[0mfloat\u001b[0m\u001b[0;34m(\u001b[0m\u001b[0mj1\u001b[0m\u001b[0;34m[\u001b[0m\u001b[0mi\u001b[0m\u001b[0;34m]\u001b[0m\u001b[0;34m[\u001b[0m\u001b[0;36m3\u001b[0m\u001b[0;34m]\u001b[0m\u001b[0;34m)\u001b[0m\u001b[0;34m-\u001b[0m\u001b[0mfloat\u001b[0m\u001b[0;34m(\u001b[0m\u001b[0mj20\u001b[0m\u001b[0;34m[\u001b[0m\u001b[0mi\u001b[0m\u001b[0;34m]\u001b[0m\u001b[0;34m[\u001b[0m\u001b[0;36m3\u001b[0m\u001b[0;34m]\u001b[0m\u001b[0;34m)\u001b[0m \u001b[0;34m)\u001b[0m\u001b[0;34m**\u001b[0m\u001b[0;36m2\u001b[0m \u001b[0;34m+\u001b[0m \u001b[0;34m(\u001b[0m\u001b[0mfloat\u001b[0m\u001b[0;34m(\u001b[0m\u001b[0mj1\u001b[0m\u001b[0;34m[\u001b[0m\u001b[0mi\u001b[0m\u001b[0;34m]\u001b[0m\u001b[0;34m[\u001b[0m\u001b[0;36m4\u001b[0m\u001b[0;34m]\u001b[0m\u001b[0;34m)\u001b[0m\u001b[0;34m-\u001b[0m\u001b[0mfloat\u001b[0m\u001b[0;34m(\u001b[0m\u001b[0mj20\u001b[0m\u001b[0;34m[\u001b[0m\u001b[0mi\u001b[0m\u001b[0;34m]\u001b[0m\u001b[0;34m[\u001b[0m\u001b[0;36m4\u001b[0m\u001b[0;34m]\u001b[0m\u001b[0;34m)\u001b[0m \u001b[0;34m)\u001b[0m\u001b[0;34m**\u001b[0m\u001b[0;36m2\u001b[0m\u001b[0;34m)\u001b[0m\u001b[0;34m,\u001b[0m \u001b[0;36m0.5\u001b[0m\u001b[0;34m)\u001b[0m\u001b[0;34m\u001b[0m\u001b[0m\n\u001b[1;32m     16\u001b[0m         \u001b[0md_120\u001b[0m\u001b[0;34m.\u001b[0m\u001b[0mappend\u001b[0m\u001b[0;34m(\u001b[0m\u001b[0md_1_20\u001b[0m\u001b[0;34m)\u001b[0m\u001b[0;34m\u001b[0m\u001b[0m\n\u001b[0;32m---> 17\u001b[0;31m \u001b[0mget_distance\u001b[0m\u001b[0;34m(\u001b[0m\u001b[0md\u001b[0m\u001b[0;34m,\u001b[0m \u001b[0mj1\u001b[0m\u001b[0;34m,\u001b[0m\u001b[0mj4\u001b[0m\u001b[0;34m,\u001b[0m\u001b[0mj8\u001b[0m\u001b[0;34m,\u001b[0m \u001b[0mj12\u001b[0m\u001b[0;34m,\u001b[0m \u001b[0mj16\u001b[0m\u001b[0;34m,\u001b[0m \u001b[0mj20\u001b[0m\u001b[0;34m)\u001b[0m\u001b[0;34m\u001b[0m\u001b[0m\n\u001b[0m\u001b[1;32m     18\u001b[0m \u001b[0;31m#print(len(d_1_4))\u001b[0m\u001b[0;34m\u001b[0m\u001b[0;34m\u001b[0m\u001b[0m\n",
      "\u001b[0;31mNameError\u001b[0m: name 'd' is not defined"
     ]
    }
   ],
   "source": [
    "def get_distance(d,j1,j4,j8,j12,j16,j20):\n",
    "    for i in range(len(j1)-1):\n",
    "        d_14 = pow(((float(j1[i][2])-(float(j4[i][2])))**2 + (float(j1[i][3])-float(j4[i][3]) )**2 + (float(j1[i][4])-float(j4[i][4]) )**2), 0.5)\n",
    "        d_1_4.append(d_14)\n",
    "        \n",
    "        d_18 = pow(((float(j1[i][2])-(float(j8[i][2])))**2 + (float(j1[i][3])-float(j8[i][3]) )**2 + (float(j1[i][4])-float(j8[i][4]) )**2), 0.5)\n",
    "        d_1_8.append(d_18)\n",
    "    \n",
    "        d_1_12 = pow(((float(j1[i][2])-(float(j12[i][2])))**2 + (float(j1[i][3])-float(j12[i][3]) )**2 + (float(j1[i][4])-float(j12[i][4]) )**2), 0.5)\n",
    "        d_112.append(d_1_12)\n",
    "    \n",
    "        d_1_16 = pow(((float(j1[i][2])-(float(j16[i][2])))**2 + (float(j1[i][3])-float(j16[i][3]) )**2 + (float(j1[i][4])-float(j16[i][4]) )**2), 0.5)\n",
    "        d_116.append(d_1_16)\n",
    "    \n",
    "        d_1_20 = pow(((float(j1[i][2])-(float(j20[i][2])))**2 + (float(j1[i][3])-float(j20[i][3]) )**2 + (float(j1[i][4])-float(j20[i][4]) )**2), 0.5)\n",
    "        d_120.append(d_1_20)\n",
    "get_distance(d, j1,j4,j8, j12, j16, j20)\n",
    "#print(len(d_1_4))"
   ]
  },
  {
   "cell_type": "code",
   "execution_count": 6,
   "metadata": {},
   "outputs": [],
   "source": [
    "#def get_angle(a,j1,j4,j8,j12,j16,j20):\n",
    "#    for i in range(len(j1)-1):\n",
    "#        m = (float(j1[i][2]))*(float(j4[i][2])) + (float(j1[i][3])*(float(j4[i][3])) + (float(j1[i][4])*(float(j4[i][4]))\n",
    "#        #n = pow(((float(j1[i][2]))**2 + (float(j1[i][3]))**2 + (float(j1[i][4]))**2) * ((float(j4[i][2]))**2 + (float(j4[i][3]))**2 + (float(j4[i][4]))**2), 0.5)\n",
    "#        o = (float(j4[i][2])**2 + float(j4[i][3])**2 + float(j4[i][4])**2)\n",
    "#        n = ((float(j1[i][2]))**2 + (float(j1[i][3]))**2 + (float(j1[i][4]))**2)\n",
    "#        p = pow((o,n), 0.5)\n",
    "#        a_14 = acos(m/n) * 180 / math.pi\n",
    "        \n",
    "    \n",
    "                                                                                        \n",
    "#get_angle(a,j1,j4,j8,j12,j16,j20)"
   ]
  },
  {
   "cell_type": "code",
   "execution_count": 7,
   "metadata": {},
   "outputs": [
    {
     "ename": "NameError",
     "evalue": "name 'v1r' is not defined",
     "output_type": "error",
     "traceback": [
      "\u001b[0;31m---------------------------------------------------------------------------\u001b[0m",
      "\u001b[0;31mNameError\u001b[0m                                 Traceback (most recent call last)",
      "\u001b[0;32m<ipython-input-7-07dac382a8dd>\u001b[0m in \u001b[0;36m<module>\u001b[0;34m\u001b[0m\n\u001b[0;32m----> 1\u001b[0;31m \u001b[0mv1r\u001b[0m \u001b[0;34m=\u001b[0m \u001b[0;34m[\u001b[0m\u001b[0;34m[\u001b[0m\u001b[0mfloat\u001b[0m\u001b[0;34m(\u001b[0m\u001b[0mi\u001b[0m\u001b[0;34m)\u001b[0m \u001b[0;32mfor\u001b[0m \u001b[0mi\u001b[0m \u001b[0;32min\u001b[0m \u001b[0mj\u001b[0m \u001b[0;32mif\u001b[0m \u001b[0mi\u001b[0m \u001b[0;34m!=\u001b[0m\u001b[0;34m\"nan\"\u001b[0m\u001b[0;34m]\u001b[0m \u001b[0;32mfor\u001b[0m \u001b[0mj\u001b[0m \u001b[0;32min\u001b[0m \u001b[0mv1r\u001b[0m\u001b[0;34m]\u001b[0m\u001b[0;34m\u001b[0m\u001b[0m\n\u001b[0m\u001b[1;32m      2\u001b[0m \u001b[0;34m\u001b[0m\u001b[0m\n\u001b[1;32m      3\u001b[0m \u001b[0;31m#print(v1r)\u001b[0m\u001b[0;34m\u001b[0m\u001b[0;34m\u001b[0m\u001b[0m\n\u001b[1;32m      4\u001b[0m \u001b[0mv2\u001b[0m \u001b[0;34m=\u001b[0m \u001b[0mj4\u001b[0m\u001b[0;34m[\u001b[0m\u001b[0;34m:\u001b[0m\u001b[0;34m]\u001b[0m\u001b[0;34m[\u001b[0m\u001b[0;36m2\u001b[0m\u001b[0;34m:\u001b[0m\u001b[0;36m5\u001b[0m\u001b[0;34m]\u001b[0m\u001b[0;34m\u001b[0m\u001b[0m\n\u001b[1;32m      5\u001b[0m \u001b[0mv3\u001b[0m \u001b[0;34m=\u001b[0m \u001b[0mj8\u001b[0m\u001b[0;34m[\u001b[0m\u001b[0;34m:\u001b[0m\u001b[0;34m]\u001b[0m\u001b[0;34m[\u001b[0m\u001b[0;36m2\u001b[0m\u001b[0;34m:\u001b[0m\u001b[0;36m5\u001b[0m\u001b[0;34m]\u001b[0m\u001b[0;34m\u001b[0m\u001b[0m\n",
      "\u001b[0;31mNameError\u001b[0m: name 'v1r' is not defined"
     ]
    }
   ],
   "source": [
    "v1r = [[float(i) for i in j if i !=\"nan\"] for j in v1r]\n",
    "\n",
    "#print(v1r)\n",
    "v2 = j4[:][2:5]\n",
    "v3 = j8[:][2:5]\n",
    "v4 = j12[:][2:5]\n",
    "v5 = j16[:][2:5]\n",
    "v6 = j20[:][2:5]\n",
    "\n",
    "a_1_4 = list()\n",
    "a_1_8 = list()\n",
    "a_112 = list()\n",
    "a_116 = list()\n",
    "a_120 = list()\n",
    "\n",
    "def unit_vector(vector):\n",
    "    return vector / np.linalg.norm(vector)\n",
    " \n",
    "def get_angle(a,v1,v2,v3,v4,v5):\n",
    "    v1_u = unit_vector(v1)\n",
    "    v2_u = unit_vector(v2)\n",
    "    v3_u = unit_vector(v3)\n",
    "    v4_u = unit_vector(v4)\n",
    "    v5_u = unit_vector(v5)\n",
    "    v6_u = unit_vector(v6)\n",
    "    \n",
    "    a_14 = np.arccos(np.clip(np.dot(v1_u, v2_u), -1.0, 1.0))\n",
    "    a_1_4.append(a_14)\n",
    "    print(a_1_4)\n",
    "    \n",
    "    a_18 = np.arccos(np.clip(np.dot(v1_u, v3_u), -1.0, 1.0))\n",
    "    a_1_8.append(a_18)\n",
    "    \n",
    "    a_1_12 = np.arccos(np.clip(np.dot(v1_u, v3_u), -1.0, 1.0))\n",
    "    a_112.append(a_1_12)\n",
    "    \n",
    "    a_1_16 = np.arccos(np.clip(np.dot(v1_u, v4_u), -1.0, 1.0))\n",
    "    a_116.append(a_1_16)\n",
    "    \n",
    "    a_1_20 = np.arccos(np.clip(np.dot(v1_u, v5_u), -1.0, 1.0))\n",
    "    a_120.append(a_1_20)\n",
    "get_angle(v1,v2,v3,v4,v5)"
   ]
  },
  {
   "cell_type": "code",
   "execution_count": 8,
   "metadata": {},
   "outputs": [
    {
     "data": {
      "image/png": "[encoded data removed]",
      "text/plain": [
       "<Figure size 432x288 with 1 Axes>"
      ]
     },
     "metadata": {
      "needs_background": "light"
     },
     "output_type": "display_data"
    },
    {
     "data": {
      "text/plain": [
       "(array([0., 0., 0., 0., 0.]),\n",
       " array([0. , 0.2, 0.4, 0.6, 0.8, 1. ]),\n",
       " <a list of 5 Patch objects>)"
      ]
     },
     "execution_count": 8,
     "metadata": {},
     "output_type": "execute_result"
    },
    {
     "data": {
      "image/png": "[encoded data removed]",
      "text/plain": [
       "<Figure size 432x288 with 1 Axes>"
      ]
     },
     "metadata": {
      "needs_background": "light"
     },
     "output_type": "display_data"
    }
   ],
   "source": [
    "plt.hist(d_1_4, bins=5)\n",
    "plt.show()\n",
    "\n",
    "plt.hist(d_1_8, bins=5)\n",
    "\n",
    "plt.hist(d_112, bins=5)\n",
    "\n",
    "plt.hist(d_116, bins=5)\n",
    "\n",
    "plt.hist(d_120, bins=5)"
   ]
  },
  {
   "cell_type": "code",
   "execution_count": 9,
   "metadata": {},
   "outputs": [
    {
     "ename": "NameError",
     "evalue": "name 'a_1_4' is not defined",
     "output_type": "error",
     "traceback": [
      "\u001b[0;31m---------------------------------------------------------------------------\u001b[0m",
      "\u001b[0;31mNameError\u001b[0m                                 Traceback (most recent call last)",
      "\u001b[0;32m<ipython-input-9-cfa379d0cc00>\u001b[0m in \u001b[0;36m<module>\u001b[0;34m\u001b[0m\n\u001b[0;32m----> 1\u001b[0;31m \u001b[0mplt\u001b[0m\u001b[0;34m.\u001b[0m\u001b[0mhist\u001b[0m\u001b[0;34m(\u001b[0m\u001b[0ma_1_4\u001b[0m\u001b[0;34m,\u001b[0m \u001b[0mbins\u001b[0m\u001b[0;34m=\u001b[0m\u001b[0;36m5\u001b[0m\u001b[0;34m)\u001b[0m\u001b[0;34m\u001b[0m\u001b[0m\n\u001b[0m\u001b[1;32m      2\u001b[0m \u001b[0mplt\u001b[0m\u001b[0;34m.\u001b[0m\u001b[0mshow\u001b[0m\u001b[0;34m(\u001b[0m\u001b[0;34m)\u001b[0m\u001b[0;34m\u001b[0m\u001b[0m\n\u001b[1;32m      3\u001b[0m \u001b[0;34m\u001b[0m\u001b[0m\n\u001b[1;32m      4\u001b[0m \u001b[0mplt\u001b[0m\u001b[0;34m.\u001b[0m\u001b[0mhist\u001b[0m\u001b[0;34m(\u001b[0m\u001b[0ma_1_8\u001b[0m\u001b[0;34m,\u001b[0m \u001b[0mbins\u001b[0m\u001b[0;34m=\u001b[0m\u001b[0;36m5\u001b[0m\u001b[0;34m)\u001b[0m\u001b[0;34m\u001b[0m\u001b[0m\n\u001b[1;32m      5\u001b[0m \u001b[0;34m\u001b[0m\u001b[0m\n",
      "\u001b[0;31mNameError\u001b[0m: name 'a_1_4' is not defined"
     ]
    }
   ],
   "source": [
    "plt.hist(a_1_4, bins=5)\n",
    "plt.show()\n",
    "\n",
    "plt.hist(a_1_8, bins=5)\n",
    "\n",
    "plt.hist(a_112, bins=5)\n",
    "\n",
    "plt.hist(a_116, bins=5)\n",
    "\n",
    "plt.hist(a_120, bins=5)"
   ]
  },
  {
   "cell_type": "code",
   "execution_count": 12,
   "metadata": {},
   "outputs": [
    {
     "data": {
      "text/plain": [
       "40.92606330960455"
      ]
     },
     "execution_count": 12,
     "metadata": {},
     "output_type": "execute_result"
    }
   ],
   "source": [
    "import math\n",
    "np.arccos(np.dot(np.array([5, 8]), np.array([2,3]))/45)*180/math.pi"
   ]
  }
 ],
 "metadata": {
  "kernelspec": {
   "display_name": "Python 3",
   "language": "python",
   "name": "python3"
  },
  "language_info": {
   "codemirror_mode": {
    "name": "ipython",
    "version": 3
   },
   "file_extension": ".py",
   "mimetype": "text/x-python",
   "name": "python",
   "nbconvert_exporter": "python",
   "pygments_lexer": "ipython3",
   "version": "3.5.2"
  }
 },
 "nbformat": 4,
 "nbformat_minor": 2
}
