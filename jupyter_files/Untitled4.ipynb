{
 "cells": [
  {
   "cell_type": "code",
   "execution_count": 52,
   "metadata": {},
   "outputs": [],
   "source": [
    "import subprocess\n",
    "import os\n",
    "import sys\n",
    "import scipy"
   ]
  },
  {
   "cell_type": "code",
   "execution_count": 53,
   "metadata": {},
   "outputs": [
    {
     "data": {
      "text/plain": [
       "0"
      ]
     },
     "execution_count": 53,
     "metadata": {},
     "output_type": "execute_result"
    }
   ],
   "source": [
    "cur_path = os.getcwd()\n",
    "\n",
    "sys.path.insert(0, cur_path + '/libsvm-3.23/python')\n",
    "import svmutil\n",
    "from svmutil import *\n",
    "\n",
    "sys.path.insert(0, cur_path + '/libsvm-3.23/tools/')\n",
    "import grid\n",
    "from grid import *\n",
    "\n",
    "sys.path.insert(0, cur_path)\n",
    "os.system('python3 raddddd.py 1 5')"
   ]
  },
  {
   "cell_type": "code",
   "execution_count": 57,
   "metadata": {},
   "outputs": [
    {
     "ename": "FileNotFoundError",
     "evalue": "[Errno 2] No such file or directory: 'rad_d1_formated'",
     "output_type": "error",
     "traceback": [
      "\u001b[0;31m---------------------------------------------------------------------------\u001b[0m",
      "\u001b[0;31mFileNotFoundError\u001b[0m                         Traceback (most recent call last)",
      "\u001b[0;32m<ipython-input-57-2969b341992c>\u001b[0m in \u001b[0;36m<module>\u001b[0;34m\u001b[0m\n\u001b[0;32m----> 1\u001b[0;31m \u001b[0my\u001b[0m\u001b[0;34m,\u001b[0m \u001b[0mx\u001b[0m \u001b[0;34m=\u001b[0m \u001b[0msvm_read_problem\u001b[0m\u001b[0;34m(\u001b[0m\u001b[0;34m'rad_d1_formated'\u001b[0m\u001b[0;34m)\u001b[0m\u001b[0;34m\u001b[0m\u001b[0m\n\u001b[0m\u001b[1;32m      2\u001b[0m \u001b[0mtrain_path\u001b[0m \u001b[0;34m=\u001b[0m \u001b[0mcur_path\u001b[0m \u001b[0;34m+\u001b[0m \u001b[0;34m'rad_d1_formated'\u001b[0m\u001b[0;34m\u001b[0m\u001b[0m\n\u001b[1;32m      3\u001b[0m \u001b[0;34m\u001b[0m\u001b[0m\n\u001b[1;32m      4\u001b[0m \u001b[0msvm_train_path\u001b[0m \u001b[0;34m=\u001b[0m \u001b[0mcur_path\u001b[0m \u001b[0;34m+\u001b[0m \u001b[0;34m'libsvm-3.23/svm-train'\u001b[0m\u001b[0;34m\u001b[0m\u001b[0m\n\u001b[1;32m      5\u001b[0m \u001b[0;34m\u001b[0m\u001b[0m\n",
      "\u001b[0;32m~/Desktop/HCR_project_2/libsvm-3.23/python/commonutil.py\u001b[0m in \u001b[0;36msvm_read_problem\u001b[0;34m(data_file_name, return_scipy)\u001b[0m\n\u001b[1;32m     26\u001b[0m         \u001b[0mrow_ptr\u001b[0m \u001b[0;34m=\u001b[0m \u001b[0;34m[\u001b[0m\u001b[0;36m0\u001b[0m\u001b[0;34m]\u001b[0m\u001b[0;34m\u001b[0m\u001b[0m\n\u001b[1;32m     27\u001b[0m         \u001b[0mcol_idx\u001b[0m \u001b[0;34m=\u001b[0m \u001b[0;34m[\u001b[0m\u001b[0;34m]\u001b[0m\u001b[0;34m\u001b[0m\u001b[0m\n\u001b[0;32m---> 28\u001b[0;31m         \u001b[0;32mfor\u001b[0m \u001b[0mi\u001b[0m\u001b[0;34m,\u001b[0m \u001b[0mline\u001b[0m \u001b[0;32min\u001b[0m \u001b[0menumerate\u001b[0m\u001b[0;34m(\u001b[0m\u001b[0mopen\u001b[0m\u001b[0;34m(\u001b[0m\u001b[0mdata_file_name\u001b[0m\u001b[0;34m)\u001b[0m\u001b[0;34m)\u001b[0m\u001b[0;34m:\u001b[0m\u001b[0;34m\u001b[0m\u001b[0m\n\u001b[0m\u001b[1;32m     29\u001b[0m                 \u001b[0mline\u001b[0m \u001b[0;34m=\u001b[0m \u001b[0mline\u001b[0m\u001b[0;34m.\u001b[0m\u001b[0msplit\u001b[0m\u001b[0;34m(\u001b[0m\u001b[0;32mNone\u001b[0m\u001b[0;34m,\u001b[0m \u001b[0;36m1\u001b[0m\u001b[0;34m)\u001b[0m\u001b[0;34m\u001b[0m\u001b[0m\n\u001b[1;32m     30\u001b[0m                 \u001b[0;31m# In case an instance with all zero features\u001b[0m\u001b[0;34m\u001b[0m\u001b[0;34m\u001b[0m\u001b[0m\n",
      "\u001b[0;31mFileNotFoundError\u001b[0m: [Errno 2] No such file or directory: 'rad_d1_formated'"
     ]
    }
   ],
   "source": [
    "y, x = svm_read_problem('rad_d1_formated')\n",
    "train_path =  'rad_d1_formated'\n",
    "\n",
    "test_path = cur_path + 'formated_data_without_tab/rad_d1.t_formated'\n",
    "\n",
    "svm_train_path = cur_path + 'libsvm-3.23/svm-train'\n",
    "\n",
    "gnuplot_path = '/usr/bin/gnuplot'\n",
    "\n",
    "svm_options = '-s 0 -t 2'\n",
    "\n",
    "options = '-log2c %d, %d, %d -log2g %d, %d, %d -svmtrain %s %s -gnuplot %s -v %d' %(-7, 7, 1, -7, 7, 1, svm_train_path, options, gnuplot_path, 4)\n",
    "\n",
    "param_rate = find_parameters(train_path, options)\n",
    "\n",
    "\n",
    "\n"
   ]
  }
 ],
 "metadata": {
  "kernelspec": {
   "display_name": "Python 3",
   "language": "python",
   "name": "python3"
  },
  "language_info": {
   "codemirror_mode": {
    "name": "ipython",
    "version": 3
   },
   "file_extension": ".py",
   "mimetype": "text/x-python",
   "name": "python",
   "nbconvert_exporter": "python",
   "pygments_lexer": "ipython3",
   "version": "3.5.2"
  }
 },
 "nbformat": 4,
 "nbformat_minor": 2
}
